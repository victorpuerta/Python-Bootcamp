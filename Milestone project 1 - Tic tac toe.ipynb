{
 "cells": [
  {
   "cell_type": "code",
   "execution_count": 2,
   "metadata": {},
   "outputs": [
    {
     "name": "stdout",
     "output_type": "stream",
     "text": [
      "['X', 'O', 'X']\n",
      "['X', 'O', 'O']\n",
      "['X', '-', '-']\n",
      "Ha ganado el jugador 1\n"
     ]
    }
   ],
   "source": [
    "from IPython.display import clear_output\n",
    "game = True\n",
    "tablero =[\"-\",\"-\",\"-\",\"-\",\"-\",\"-\",\"-\",\"-\",\"-\"]\n",
    "puntuacion = [tablero[0],tablero[1],tablero[2]],[tablero[3],tablero[4],tablero[5]],[tablero[6],tablero[7],tablero[8]]\n",
    "turnos = 0\n",
    "ans2 = ''\n",
    "def ganador(num):\n",
    "    if num%2==0:\n",
    "        return '2'\n",
    "    return '1'\n",
    "\n",
    "   \n",
    "while game:\n",
    "    print(\"Bienvenido a tic tac toe\")\n",
    "    ans = input(\"Jugador 1: Que quieres ser X o O? \")\n",
    "    if ans == 'X':\n",
    "        ans2 ='O'\n",
    "    else:\n",
    "        ans2 ='X'\n",
    "    print(\"Jugador 1, empiezas.\")\n",
    "    res = input(\"Estás listo para jugar? Di Sí o No\")\n",
    "    if res == 'si':  \n",
    "        for rows in puntuacion:\n",
    "            print(rows)\n",
    "        while turnos<9:\n",
    "            \n",
    "            if (tablero[0]==tablero[1]==tablero[2] == 'X') or (tablero[0]==tablero[1]==tablero[2] == 'O'):\n",
    "                game=False\n",
    "                print(\"Ha ganado el jugador \" + ganador(turnos))\n",
    "                break\n",
    "            elif (tablero[0]==tablero[3]==tablero[6] == 'X')or (tablero[0]==tablero[3]==tablero[6] == 'O'):\n",
    "                game=False\n",
    "                print(\"Ha ganado el jugador \" + ganador(turnos))\n",
    "                break\n",
    "            elif (tablero[0]==tablero[4]==tablero[8] == 'X') or (tablero[0]==tablero[4]==tablero[8] == 'O'):\n",
    "                game=False\n",
    "                print(\"Ha ganado el jugador \" + ganador(turnos))\n",
    "                break\n",
    "            elif (tablero[1]==tablero[4]==tablero[7] =='X') or (tablero[1]==tablero[4]==tablero[7]=='O'):\n",
    "                game=False\n",
    "                print(\"Ha ganado el jugador \" + ganador(turnos))\n",
    "                break\n",
    "            elif (tablero[2]==tablero[5]==tablero[8] == 'X') or (tablero[2]==tablero[5]==tablero[8]=='O'):\n",
    "                game=False\n",
    "                print(\"Ha ganado el jugador \" + ganador(turnos))\n",
    "                break\n",
    "            elif (tablero[3]==tablero[4]==tablero[5]=='X') or (tablero[3]==tablero[4]==tablero[5] == 'O'):\n",
    "                game=False\n",
    "                print(\"Ha ganado el jugador \" + ganador(turnos))\n",
    "                break\n",
    "            elif (tablero[6]==tablero[7]==tablero[8] =='X') or (tablero[6]==tablero[7]==tablero[8]  =='O'):\n",
    "                game=False\n",
    "                print(\"Ha ganado el jugador \" + ganador(turnos))\n",
    "                break\n",
    "            else:\n",
    "                tirada = int(input(\"Elige la posición (1-9)\"))\n",
    "                if turnos%2==0:\n",
    "                    tablero.insert(tirada-1,ans)\n",
    "                    tablero.pop(tirada)\n",
    "                    puntuacion = [tablero[0],tablero[1],tablero[2]],[tablero[3],tablero[4],tablero[5]],[tablero[6],tablero[7],tablero[8]]\n",
    "                else:\n",
    "                    tablero.insert(tirada-1,ans2)\n",
    "                    tablero.pop(tirada)\n",
    "                    puntuacion = [tablero[0],tablero[1],tablero[2]],[tablero[3],tablero[4],tablero[5]],[tablero[6],tablero[7],tablero[8]]\n",
    "                clear_output()\n",
    "                for rows in puntuacion:\n",
    "                    print(rows)        \n",
    "\n",
    "\n",
    "                turnos += 1\n",
    "    game = False\n",
    "\n",
    "\n",
    "\n"
   ]
  },
  {
   "cell_type": "code",
   "execution_count": null,
   "metadata": {},
   "outputs": [],
   "source": []
  }
 ],
 "metadata": {
  "kernelspec": {
   "display_name": "Python 3",
   "language": "python",
   "name": "python3"
  },
  "language_info": {
   "codemirror_mode": {
    "name": "ipython",
    "version": 3
   },
   "file_extension": ".py",
   "mimetype": "text/x-python",
   "name": "python",
   "nbconvert_exporter": "python",
   "pygments_lexer": "ipython3",
   "version": "3.7.3"
  }
 },
 "nbformat": 4,
 "nbformat_minor": 2
}
