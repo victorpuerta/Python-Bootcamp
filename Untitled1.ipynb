{
 "cells": [
  {
   "cell_type": "code",
   "execution_count": 209,
   "metadata": {},
   "outputs": [],
   "source": [
    "from random import shuffle\n",
    "class Deck():\n",
    "    \n",
    "    suits = ('Hearts', 'Diamonds', 'Spades', 'Clubs')\n",
    "    ranks = ('Two', 'Three', 'Four', 'Five', 'Six', 'Seven', 'Eight', 'Nine', 'Ten', 'Jack', 'Queen', 'King', 'Ace')\n",
    "    values = {'Two':2, 'Three':3, 'Four':4, 'Five':5, 'Six':6, 'Seven':7, 'Eight':8, 'Nine':9, 'Ten':10, 'Jack':10,\n",
    "         'Queen':10, 'King':10, 'Ace':11}\n",
    "    deck = []\n",
    "\n",
    "    def create_deck(self):\n",
    "        \n",
    "        for suits_0 in self.suits:\n",
    "            for ranks_0 in self.ranks:\n",
    "                self.deck += [suits_0 + \" \" + ranks_0]\n",
    "        return self.deck\n",
    "        \n",
    "    def shuffle_deck(self):\n",
    "        \n",
    "        shuffle(self.deck)\n",
    "        return self.deck     \n",
    "        \n",
    "        \n",
    "    def __str__(self):\n",
    "        return (\"suits: {} \\nranks: {} \\nvalues: {}\".format(self.suits, self.ranks, self.values))\n",
    "    \n",
    "    \n",
    "class Game():\n",
    "    \n",
    "    game = False\n",
    "    deck = Deck\n",
    "    \n",
    "    \n",
    "        \n",
    "    \n",
    "    "
   ]
  },
  {
   "cell_type": "code",
   "execution_count": 210,
   "metadata": {},
   "outputs": [],
   "source": [
    "d = Deck()"
   ]
  },
  {
   "cell_type": "code",
   "execution_count": 208,
   "metadata": {},
   "outputs": [
    {
     "ename": "NameError",
     "evalue": "name 'create_deck' is not defined",
     "output_type": "error",
     "traceback": [
      "\u001b[1;31m---------------------------------------------------------------------------\u001b[0m",
      "\u001b[1;31mNameError\u001b[0m                                 Traceback (most recent call last)",
      "\u001b[1;32m<ipython-input-208-0a017a501462>\u001b[0m in \u001b[0;36m<module>\u001b[1;34m\u001b[0m\n\u001b[0;32m      1\u001b[0m \u001b[1;31m#print(d)\u001b[0m\u001b[1;33m\u001b[0m\u001b[1;33m\u001b[0m\u001b[1;33m\u001b[0m\u001b[0m\n\u001b[1;32m----> 2\u001b[1;33m \u001b[0md\u001b[0m\u001b[1;33m.\u001b[0m\u001b[0mshuffle_deck\u001b[0m\u001b[1;33m(\u001b[0m\u001b[1;33m)\u001b[0m\u001b[1;33m\u001b[0m\u001b[1;33m\u001b[0m\u001b[0m\n\u001b[0m\u001b[0;32m      3\u001b[0m \u001b[1;33m\u001b[0m\u001b[0m\n",
      "\u001b[1;32m<ipython-input-206-e60f596696b9>\u001b[0m in \u001b[0;36mshuffle_deck\u001b[1;34m(self)\u001b[0m\n\u001b[0;32m     16\u001b[0m \u001b[1;33m\u001b[0m\u001b[0m\n\u001b[0;32m     17\u001b[0m     \u001b[1;32mdef\u001b[0m \u001b[0mshuffle_deck\u001b[0m\u001b[1;33m(\u001b[0m\u001b[0mself\u001b[0m\u001b[1;33m)\u001b[0m\u001b[1;33m:\u001b[0m\u001b[1;33m\u001b[0m\u001b[1;33m\u001b[0m\u001b[0m\n\u001b[1;32m---> 18\u001b[1;33m         \u001b[0mcreate_deck\u001b[0m\u001b[1;33m(\u001b[0m\u001b[1;33m)\u001b[0m\u001b[1;33m\u001b[0m\u001b[1;33m\u001b[0m\u001b[0m\n\u001b[0m\u001b[0;32m     19\u001b[0m         \u001b[0mshuffle\u001b[0m\u001b[1;33m(\u001b[0m\u001b[0mself\u001b[0m\u001b[1;33m.\u001b[0m\u001b[0mdeck\u001b[0m\u001b[1;33m)\u001b[0m\u001b[1;33m\u001b[0m\u001b[1;33m\u001b[0m\u001b[0m\n\u001b[0;32m     20\u001b[0m         \u001b[1;32mreturn\u001b[0m \u001b[0mself\u001b[0m\u001b[1;33m.\u001b[0m\u001b[0mdeck\u001b[0m\u001b[1;33m\u001b[0m\u001b[1;33m\u001b[0m\u001b[0m\n",
      "\u001b[1;31mNameError\u001b[0m: name 'create_deck' is not defined"
     ]
    }
   ],
   "source": [
    "#print(d)\n",
    "d.shuffle_deck()\n",
    "\n"
   ]
  },
  {
   "cell_type": "code",
   "execution_count": 211,
   "metadata": {},
   "outputs": [
    {
     "data": {
      "text/plain": [
       "['Hearts King',\n",
       " 'Hearts Two',\n",
       " 'Clubs Three',\n",
       " 'Diamonds Five',\n",
       " 'Spades Two',\n",
       " 'Spades Four',\n",
       " 'Clubs Five',\n",
       " 'Clubs Ten',\n",
       " 'Diamonds Two',\n",
       " 'Clubs King',\n",
       " 'Hearts Eight',\n",
       " 'Diamonds Queen',\n",
       " 'Hearts Four',\n",
       " 'Spades Seven',\n",
       " 'Hearts Ten',\n",
       " 'Hearts Three',\n",
       " 'Hearts Six',\n",
       " 'Spades Eight',\n",
       " 'Diamonds Jack',\n",
       " 'Spades Three',\n",
       " 'Clubs Jack',\n",
       " 'Hearts Five',\n",
       " 'Spades Six',\n",
       " 'Hearts Seven',\n",
       " 'Diamonds Nine',\n",
       " 'Clubs Queen',\n",
       " 'Diamonds Six',\n",
       " 'Diamonds Eight',\n",
       " 'Spades Ace',\n",
       " 'Diamonds Seven',\n",
       " 'Spades Five',\n",
       " 'Clubs Seven',\n",
       " 'Spades Jack',\n",
       " 'Diamonds Ten',\n",
       " 'Clubs Ace',\n",
       " 'Diamonds King',\n",
       " 'Clubs Nine',\n",
       " 'Diamonds Four',\n",
       " 'Spades Nine',\n",
       " 'Hearts Queen',\n",
       " 'Hearts Ace',\n",
       " 'Diamonds Three',\n",
       " 'Spades King',\n",
       " 'Hearts Nine',\n",
       " 'Clubs Eight',\n",
       " 'Clubs Four',\n",
       " 'Spades Queen',\n",
       " 'Spades Ten',\n",
       " 'Diamonds Ace',\n",
       " 'Clubs Six']"
      ]
     },
     "execution_count": 211,
     "metadata": {},
     "output_type": "execute_result"
    }
   ],
   "source": [
    "['Hearts King', 'Hearts Two', 'Clubs Three', 'Diamonds Five', 'Spades Two', 'Spades Four', 'Clubs Five', 'Clubs Ten', 'Diamonds Two', 'Clubs King', 'Hearts Eight', 'Diamonds Queen', 'Hearts Four', 'Spades Seven', 'Hearts Ten', 'Hearts Three', 'Hearts Six', 'Spades Eight', 'Diamonds Jack', 'Spades Three', 'Clubs Jack', 'Hearts Five', 'Spades Six', 'Hearts Seven', 'Diamonds Nine', 'Clubs Queen', 'Diamonds Six', 'Diamonds Eight', 'Spades Ace', 'Diamonds Seven', 'Spades Five', 'Clubs Seven', 'Spades Jack', 'Diamonds Ten', 'Clubs Ace', 'Diamonds King', 'Clubs Nine', 'Diamonds Four', 'Spades Nine', 'Hearts Queen', 'Hearts Ace', 'Diamonds Three', 'Spades King', 'Hearts Nine', 'Clubs Eight', 'Clubs Four', 'Spades Queen', 'Spades Ten', 'Diamonds Ace', 'Clubs Six']"
   ]
  },
  {
   "cell_type": "code",
   "execution_count": null,
   "metadata": {},
   "outputs": [],
   "source": []
  }
 ],
 "metadata": {
  "kernelspec": {
   "display_name": "Python 3",
   "language": "python",
   "name": "python3"
  },
  "language_info": {
   "codemirror_mode": {
    "name": "ipython",
    "version": 3
   },
   "file_extension": ".py",
   "mimetype": "text/x-python",
   "name": "python",
   "nbconvert_exporter": "python",
   "pygments_lexer": "ipython3",
   "version": "3.7.3"
  }
 },
 "nbformat": 4,
 "nbformat_minor": 2
}
