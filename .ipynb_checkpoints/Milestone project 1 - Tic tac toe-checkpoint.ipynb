{
 "cells": [
  {
   "cell_type": "code",
   "execution_count": null,
   "metadata": {},
   "outputs": [
    {
     "name": "stdout",
     "output_type": "stream",
     "text": [
      "Bienvenido a tic tac toe\n",
      "Jugador 1: Que quieres ser X o O? X\n",
      "Jugador 1, empiezas.\n",
      "Estás listo para jugar? Di Sí o NoSí\n",
      "['-', '-', '-']\n",
      "['-', '-', '-']\n",
      "['-', '-', '-']\n",
      "Elige la posición (1-9)8\n",
      "['-', '-', '-']\n",
      "['-', '-', '-']\n",
      "['-', '-', '-']\n",
      "Elige la posición (1-9)8\n",
      "['-', '-', '-']\n",
      "['-', '-', '-']\n",
      "['-', 'X', '-']\n",
      "Elige la posición (1-9)7\n",
      "['-', '-', '-']\n",
      "['-', '-', '-']\n",
      "['-', 'O', 'X']\n",
      "Elige la posición (1-9)1\n",
      "['-', '-', '-']\n",
      "['-', '-', '-']\n",
      "['X', '-', 'O']\n",
      "Elige la posición (1-9)2\n",
      "['O', '-', '-']\n",
      "['-', '-', '-']\n",
      "['-', 'X', '-']\n"
     ]
    }
   ],
   "source": [
    "game = True\n",
    "tablero =[\"-\",\"-\",\"-\",\"-\",\"-\",\"-\",\"-\",\"-\",\"-\"]\n",
    "puntuacion = [tablero[0],tablero[1],tablero[2]],[tablero[3],tablero[4],tablero[5]],[tablero[6],tablero[7],tablero[8]]\n",
    "turnos = 0\n",
    "ans2 = ''\n",
    "while game:\n",
    "    print(\"Bienvenido a tic tac toe\")\n",
    "    ans = input(\"Jugador 1: Que quieres ser X o O? \")\n",
    "    if ans == 'X':\n",
    "        ans2 ='O'\n",
    "    else:\n",
    "        ans2 ='X'\n",
    "    print(\"Jugador 1, empiezas.\")\n",
    "    res = input(\"Estás listo para jugar? Di Sí o No\")\n",
    "    if res == 'Sí':  \n",
    "        for rows in puntuacion:\n",
    "            print(rows)\n",
    "        while turnos<=9:\n",
    "           \n",
    "            tirada = int(input(\"Elige la posición (1-9)\"))\n",
    "            if turnos%2==0:\n",
    "                tablero.insert(tirada-1,ans)\n",
    "                puntuacion = [tablero[0],tablero[1],tablero[2]],[tablero[3],tablero[4],tablero[5]],[tablero[6],tablero[7],tablero[8]]\n",
    "            else:\n",
    "                tablero.insert(tirada-1,ans2)\n",
    "                puntuacion = [tablero[0],tablero[1],tablero[2]],[tablero[3],tablero[4],tablero[5]],[tablero[6],tablero[7],tablero[8]]\n",
    "                \n",
    "            for rows in puntuacion:\n",
    "                print(rows)        \n",
    "            \n",
    "            \n",
    "            turnos += 1\n",
    "    game = False\n",
    "\n",
    "\n",
    "\n"
   ]
  },
  {
   "cell_type": "code",
   "execution_count": 1,
   "metadata": {},
   "outputs": [
    {
     "name": "stdout",
     "output_type": "stream",
     "text": [
      "(['1', '2', '3'], ['4', '5', '6'], ['7', '8', '9'])\n",
      "<class 'tuple'>\n",
      "['1', '2', '3']\n",
      "['4', '5', '6']\n",
      "['7', '8', '9']\n"
     ]
    }
   ],
   "source": [
    "tablero =[\"1\",\"2\",\"3\",\"4\",\"5\",\"6\",\"7\",\"8\",\"9\"]\n",
    "tablero1 = [tablero[0],tablero[1],tablero[2]],[tablero[3],tablero[4],tablero[5]],[tablero[6],tablero[7],tablero[8]]\n",
    "print(tablero1)\n",
    "print(type(tablero1))\n",
    "#tablero3 = [tablero[6],tablero[7],tablero[8]]\n",
    "\n",
    "for rows in tablero1:\n",
    "    print(rows)\n"
   ]
  },
  {
   "cell_type": "code",
   "execution_count": 1,
   "metadata": {},
   "outputs": [
    {
     "data": {
      "text/plain": [
       "2"
      ]
     },
     "execution_count": 1,
     "metadata": {},
     "output_type": "execute_result"
    }
   ],
   "source": [
    "1+1"
   ]
  },
  {
   "cell_type": "code",
   "execution_count": null,
   "metadata": {},
   "outputs": [],
   "source": []
  }
 ],
 "metadata": {
  "kernelspec": {
   "display_name": "Python 3",
   "language": "python",
   "name": "python3"
  },
  "language_info": {
   "codemirror_mode": {
    "name": "ipython",
    "version": 3
   },
   "file_extension": ".py",
   "mimetype": "text/x-python",
   "name": "python",
   "nbconvert_exporter": "python",
   "pygments_lexer": "ipython3",
   "version": "3.7.3"
  }
 },
 "nbformat": 4,
 "nbformat_minor": 2
}
