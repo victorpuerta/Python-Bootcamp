{
 "cells": [
  {
   "cell_type": "markdown",
   "metadata": {},
   "source": [
    "## EX 1\n",
    "\n",
    "__Use for, .split(), and if to create a Statement that will print out words that start with 's':__"
   ]
  },
  {
   "cell_type": "code",
   "execution_count": 14,
   "metadata": {},
   "outputs": [
    {
     "name": "stdout",
     "output_type": "stream",
     "text": [
      "start\n",
      "sentence\n"
     ]
    }
   ],
   "source": [
    "st = 'Print only the words that start with s in this sentence'\n",
    "x = st.split()\n",
    "for words in x:\n",
    "    if words[0]=='s'and len(words)>1:\n",
    "        print(words)\n"
   ]
  },
  {
   "cell_type": "markdown",
   "metadata": {},
   "source": [
    "## EX 2\n",
    "\n",
    "__Use range() to print all the even numbers from 0 to 10.__"
   ]
  },
  {
   "cell_type": "code",
   "execution_count": 21,
   "metadata": {},
   "outputs": [
    {
     "data": {
      "text/plain": [
       "[0, 2, 4, 6, 8, 10]"
      ]
     },
     "execution_count": 21,
     "metadata": {},
     "output_type": "execute_result"
    }
   ],
   "source": [
    "list(range(0,11,2))"
   ]
  },
  {
   "cell_type": "markdown",
   "metadata": {},
   "source": [
    "## EX 3\n",
    "\n",
    "__Use a List Comprehension to create a list of all numbers between 1 and 50 that are divisible by 3.__"
   ]
  },
  {
   "cell_type": "code",
   "execution_count": 29,
   "metadata": {},
   "outputs": [],
   "source": [
    "mylist = [num for num in range(1,51) if num%3 == 0]\n"
   ]
  },
  {
   "cell_type": "code",
   "execution_count": 30,
   "metadata": {},
   "outputs": [
    {
     "data": {
      "text/plain": [
       "[3, 6, 9, 12, 15, 18, 21, 24, 27, 30, 33, 36, 39, 42, 45, 48]"
      ]
     },
     "execution_count": 30,
     "metadata": {},
     "output_type": "execute_result"
    }
   ],
   "source": [
    "mylist"
   ]
  },
  {
   "cell_type": "markdown",
   "metadata": {},
   "source": [
    "## EX 4\n",
    "\n",
    "__Go through the string below and if the length of a word is even print \"even!\"__"
   ]
  },
  {
   "cell_type": "code",
   "execution_count": 31,
   "metadata": {},
   "outputs": [],
   "source": [
    "st = 'Print every word in this sentence that has an even number of letters'"
   ]
  },
  {
   "cell_type": "code",
   "execution_count": 33,
   "metadata": {},
   "outputs": [
    {
     "name": "stdout",
     "output_type": "stream",
     "text": [
      "Even word here! word\n",
      "Even word here! in\n",
      "Even word here! this\n",
      "Even word here! sentence\n",
      "Even word here! that\n",
      "Even word here! an\n",
      "Even word here! even\n",
      "Even word here! number\n",
      "Even word here! of\n"
     ]
    }
   ],
   "source": [
    "words = st.split()\n",
    "\n",
    "for word in words:\n",
    "    if len(word)%2==0:\n",
    "        print(f'Even word here! {word}')"
   ]
  },
  {
   "cell_type": "markdown",
   "metadata": {},
   "source": [
    "## EX 5\n",
    "\n",
    "__Write a program that prints the integers from 1 to 100. But for multiples of three print \"Fizz\" instead of the number, and for the multiples of five print \"Buzz\". For numbers which are multiples of both three and five print \"FizzBuzz\".__"
   ]
  },
  {
   "cell_type": "code",
   "execution_count": 36,
   "metadata": {},
   "outputs": [
    {
     "name": "stdout",
     "output_type": "stream",
     "text": [
      "1\n",
      "2\n",
      "Fizz by 3 ----> 3\n",
      "4\n",
      "Fizz by 5 ---->5\n",
      "Fizz by 3 ----> 6\n",
      "7\n",
      "8\n",
      "Fizz by 3 ----> 9\n",
      "Fizz by 5 ---->10\n",
      "11\n",
      "Fizz by 3 ----> 12\n",
      "13\n",
      "14\n",
      "FizzBuzz 15\n",
      "16\n",
      "17\n",
      "Fizz by 3 ----> 18\n",
      "19\n",
      "Fizz by 5 ---->20\n",
      "Fizz by 3 ----> 21\n",
      "22\n",
      "23\n",
      "Fizz by 3 ----> 24\n",
      "Fizz by 5 ---->25\n",
      "26\n",
      "Fizz by 3 ----> 27\n",
      "28\n",
      "29\n",
      "FizzBuzz 30\n",
      "31\n",
      "32\n",
      "Fizz by 3 ----> 33\n",
      "34\n",
      "Fizz by 5 ---->35\n",
      "Fizz by 3 ----> 36\n",
      "37\n",
      "38\n",
      "Fizz by 3 ----> 39\n",
      "Fizz by 5 ---->40\n",
      "41\n",
      "Fizz by 3 ----> 42\n",
      "43\n",
      "44\n",
      "FizzBuzz 45\n",
      "46\n",
      "47\n",
      "Fizz by 3 ----> 48\n",
      "49\n",
      "Fizz by 5 ---->50\n",
      "Fizz by 3 ----> 51\n",
      "52\n",
      "53\n",
      "Fizz by 3 ----> 54\n",
      "Fizz by 5 ---->55\n",
      "56\n",
      "Fizz by 3 ----> 57\n",
      "58\n",
      "59\n",
      "FizzBuzz 60\n",
      "61\n",
      "62\n",
      "Fizz by 3 ----> 63\n",
      "64\n",
      "Fizz by 5 ---->65\n",
      "Fizz by 3 ----> 66\n",
      "67\n",
      "68\n",
      "Fizz by 3 ----> 69\n",
      "Fizz by 5 ---->70\n",
      "71\n",
      "Fizz by 3 ----> 72\n",
      "73\n",
      "74\n",
      "FizzBuzz 75\n",
      "76\n",
      "77\n",
      "Fizz by 3 ----> 78\n",
      "79\n",
      "Fizz by 5 ---->80\n",
      "Fizz by 3 ----> 81\n",
      "82\n",
      "83\n",
      "Fizz by 3 ----> 84\n",
      "Fizz by 5 ---->85\n",
      "86\n",
      "Fizz by 3 ----> 87\n",
      "88\n",
      "89\n",
      "FizzBuzz 90\n",
      "91\n",
      "92\n",
      "Fizz by 3 ----> 93\n",
      "94\n",
      "Fizz by 5 ---->95\n",
      "Fizz by 3 ----> 96\n",
      "97\n",
      "98\n",
      "Fizz by 3 ----> 99\n"
     ]
    }
   ],
   "source": [
    "for num in range(1,100):\n",
    "    if num%5==0 and num%3==0:\n",
    "        print(f'FizzBuzz {num}')\n",
    "    elif num%5==0:\n",
    "        print(f'Fizz by 5 ---->{num}')\n",
    "    elif num%3==0:\n",
    "        print(f'Fizz by 3 ----> {num}')\n",
    "    else:\n",
    "        print(num)\n",
    "        "
   ]
  },
  {
   "cell_type": "markdown",
   "metadata": {},
   "source": [
    "## EX 6\n",
    "\n",
    "__Use List Comprehension to create a list of the first letters of every word in the string below:__"
   ]
  },
  {
   "cell_type": "code",
   "execution_count": 37,
   "metadata": {},
   "outputs": [
    {
     "data": {
      "text/plain": [
       "['C', 'a', 'l', 'o', 't', 'f', 'l', 'o', 'e', 'w', 'i', 't', 's']"
      ]
     },
     "execution_count": 37,
     "metadata": {},
     "output_type": "execute_result"
    }
   ],
   "source": [
    "st = 'Create a list of the first letters of every word in this string'\n",
    "[word[0] for word in st.split()]\n"
   ]
  },
  {
   "cell_type": "markdown",
   "metadata": {},
   "source": [
    "## Guessing Game Challenge\n",
    "Let's use while loops to create a guessing game.\n",
    "\n",
    "The Challenge:\n",
    "\n",
    "Write a program that picks a random integer from 1 to 100, and has players guess the number. The rules are:\n",
    "\n",
    "1. If a player's guess is less than 1 or greater than 100, say \"OUT OF BOUNDS\"\n",
    "2. On a player's first turn, if their guess is\n",
    "\n",
    "    within 10 of the number, return \"WARM!\"\n",
    "    \n",
    "    further than 10 away from the number, return \"COLD!\"\n",
    "3. On all subsequent turns, if a guess is\n",
    "\n",
    "    closer to the number than the previous guess return \"WARMER!\"\n",
    "    \n",
    "    farther from the number than the previous guess, return \"COLDER!\"\n",
    "4. When the player's guess equals the number, tell them they've guessed correctly and how many guesses it took!\n",
    "\n",
    "You can try this from scratch, or follow the steps outlined below. A separate Solution notebook has been provided. Good luck!\n",
    "\n",
    "__First, pick a random integer from 1 to 100 using the random module and assign it to a variable__\n",
    "\n",
    "Note: random.randint(a,b) returns a random integer in range [a, b], including both end points."
   ]
  },
  {
   "cell_type": "code",
   "execution_count": 1,
   "metadata": {},
   "outputs": [],
   "source": [
    "from random import randint"
   ]
  },
  {
   "cell_type": "code",
   "execution_count": 2,
   "metadata": {},
   "outputs": [
    {
     "data": {
      "text/plain": [
       "29"
      ]
     },
     "execution_count": 2,
     "metadata": {},
     "output_type": "execute_result"
    }
   ],
   "source": [
    "guess = randint(1,100)\n",
    "guess"
   ]
  },
  {
   "cell_type": "code",
   "execution_count": 4,
   "metadata": {},
   "outputs": [
    {
     "name": "stdout",
     "output_type": "stream",
     "text": [
      "Guess a number 28\n",
      "Warm!\n",
      "warmer2!\n",
      "Guess a number 27\n",
      "Warm!\n",
      "colder2!\n",
      "Guess a number 30\n",
      "Warm!\n",
      "colder!\n",
      "Guess a number 31\n",
      "Warm!\n",
      "colder!\n",
      "Guess a number 29\n",
      "U guess Correctly! it took you 4 times!\n"
     ]
    }
   ],
   "source": [
    "guesses=[0]\n",
    "index=0\n",
    "while(True):\n",
    "    guessPlayer = int(input('Guess a number '))    \n",
    "    if guessPlayer < 1 or guessPlayer > 100:\n",
    "        print('OUT OF BOUNDS')\n",
    "        pass\n",
    "    elif guess==guessPlayer:\n",
    "        print(f\"U guess Correctly! it took you {len(guesses)} times!\")\n",
    "        break\n",
    "    elif guessPlayer <= guess +10 and guessPlayer >= guess:\n",
    "        print(\"Warm!\")\n",
    "        if len(guesses)>0:\n",
    "            if guess-guessPlayer > guess-guesses[-1]:\n",
    "                print(\"warmer\")\n",
    "                pass\n",
    "        \n",
    "            elif guess-guessPlayer < guess-guesses[-1]:\n",
    "                print(\"colder!\")\n",
    "                pass\n",
    "        else:\n",
    "            pass\n",
    "    elif guessPlayer >= guess - 10 and guessPlayer <= guess:\n",
    "        print(\"Warm!\")\n",
    "        if len(guesses)>0:\n",
    "            if guess-guessPlayer > guess-guesses[-1]:\n",
    "                print(\"colder!\")\n",
    "                pass\n",
    "        \n",
    "            elif guess-guessPlayer < guess-guesses[-1]:\n",
    "                print(\"warmer!\")\n",
    "                pass\n",
    "   \n",
    "    index+=1\n",
    "    guesses.insert(index,guessPlayer)\n",
    "\n",
    "    \n"
   ]
  },
  {
   "cell_type": "code",
   "execution_count": null,
   "metadata": {},
   "outputs": [],
   "source": []
  }
 ],
 "metadata": {
  "kernelspec": {
   "display_name": "Python 3",
   "language": "python",
   "name": "python3"
  },
  "language_info": {
   "codemirror_mode": {
    "name": "ipython",
    "version": 3
   },
   "file_extension": ".py",
   "mimetype": "text/x-python",
   "name": "python",
   "nbconvert_exporter": "python",
   "pygments_lexer": "ipython3",
   "version": "3.7.3"
  }
 },
 "nbformat": 4,
 "nbformat_minor": 2
}
