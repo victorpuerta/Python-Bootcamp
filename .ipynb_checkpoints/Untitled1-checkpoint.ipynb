{
 "cells": [
  {
   "cell_type": "code",
   "execution_count": 11,
   "metadata": {},
   "outputs": [
    {
     "ename": "NameError",
     "evalue": "name 'self' is not defined",
     "output_type": "error",
     "traceback": [
      "\u001b[1;31m---------------------------------------------------------------------------\u001b[0m",
      "\u001b[1;31mNameError\u001b[0m                                 Traceback (most recent call last)",
      "\u001b[1;32m<ipython-input-11-67d91b945d3f>\u001b[0m in \u001b[0;36m<module>\u001b[1;34m\u001b[0m\n\u001b[1;32m----> 1\u001b[1;33m \u001b[1;32mclass\u001b[0m \u001b[0mDeck\u001b[0m\u001b[1;33m:\u001b[0m\u001b[1;33m\u001b[0m\u001b[1;33m\u001b[0m\u001b[0m\n\u001b[0m\u001b[0;32m      2\u001b[0m \u001b[1;33m\u001b[0m\u001b[0m\n\u001b[0;32m      3\u001b[0m     \u001b[0mself\u001b[0m\u001b[1;33m.\u001b[0m\u001b[0msuits\u001b[0m \u001b[1;33m=\u001b[0m \u001b[1;33m(\u001b[0m\u001b[1;34m'Hearts'\u001b[0m\u001b[1;33m,\u001b[0m \u001b[1;34m'Diamonds'\u001b[0m\u001b[1;33m,\u001b[0m \u001b[1;34m'Spades'\u001b[0m\u001b[1;33m,\u001b[0m \u001b[1;34m'Clubs'\u001b[0m\u001b[1;33m)\u001b[0m\u001b[1;33m\u001b[0m\u001b[1;33m\u001b[0m\u001b[0m\n\u001b[0;32m      4\u001b[0m     \u001b[0mranks\u001b[0m \u001b[1;33m=\u001b[0m \u001b[1;33m(\u001b[0m\u001b[1;34m'Two'\u001b[0m\u001b[1;33m,\u001b[0m \u001b[1;34m'Three'\u001b[0m\u001b[1;33m,\u001b[0m \u001b[1;34m'Four'\u001b[0m\u001b[1;33m,\u001b[0m \u001b[1;34m'Five'\u001b[0m\u001b[1;33m,\u001b[0m \u001b[1;34m'Six'\u001b[0m\u001b[1;33m,\u001b[0m \u001b[1;34m'Seven'\u001b[0m\u001b[1;33m,\u001b[0m \u001b[1;34m'Eight'\u001b[0m\u001b[1;33m,\u001b[0m \u001b[1;34m'Nine'\u001b[0m\u001b[1;33m,\u001b[0m \u001b[1;34m'Ten'\u001b[0m\u001b[1;33m,\u001b[0m \u001b[1;34m'Jack'\u001b[0m\u001b[1;33m,\u001b[0m \u001b[1;34m'Queen'\u001b[0m\u001b[1;33m,\u001b[0m \u001b[1;34m'King'\u001b[0m\u001b[1;33m,\u001b[0m \u001b[1;34m'Ace'\u001b[0m\u001b[1;33m)\u001b[0m\u001b[1;33m\u001b[0m\u001b[1;33m\u001b[0m\u001b[0m\n\u001b[0;32m      5\u001b[0m     values = {'Two':2, 'Three':3, 'Four':4, 'Five':5, 'Six':6, 'Seven':7, 'Eight':8, 'Nine':9, 'Ten':10, 'Jack':10,\n",
      "\u001b[1;32m<ipython-input-11-67d91b945d3f>\u001b[0m in \u001b[0;36mDeck\u001b[1;34m()\u001b[0m\n\u001b[0;32m      1\u001b[0m \u001b[1;32mclass\u001b[0m \u001b[0mDeck\u001b[0m\u001b[1;33m:\u001b[0m\u001b[1;33m\u001b[0m\u001b[1;33m\u001b[0m\u001b[0m\n\u001b[0;32m      2\u001b[0m \u001b[1;33m\u001b[0m\u001b[0m\n\u001b[1;32m----> 3\u001b[1;33m     \u001b[0mself\u001b[0m\u001b[1;33m.\u001b[0m\u001b[0msuits\u001b[0m \u001b[1;33m=\u001b[0m \u001b[1;33m(\u001b[0m\u001b[1;34m'Hearts'\u001b[0m\u001b[1;33m,\u001b[0m \u001b[1;34m'Diamonds'\u001b[0m\u001b[1;33m,\u001b[0m \u001b[1;34m'Spades'\u001b[0m\u001b[1;33m,\u001b[0m \u001b[1;34m'Clubs'\u001b[0m\u001b[1;33m)\u001b[0m\u001b[1;33m\u001b[0m\u001b[1;33m\u001b[0m\u001b[0m\n\u001b[0m\u001b[0;32m      4\u001b[0m     \u001b[0mranks\u001b[0m \u001b[1;33m=\u001b[0m \u001b[1;33m(\u001b[0m\u001b[1;34m'Two'\u001b[0m\u001b[1;33m,\u001b[0m \u001b[1;34m'Three'\u001b[0m\u001b[1;33m,\u001b[0m \u001b[1;34m'Four'\u001b[0m\u001b[1;33m,\u001b[0m \u001b[1;34m'Five'\u001b[0m\u001b[1;33m,\u001b[0m \u001b[1;34m'Six'\u001b[0m\u001b[1;33m,\u001b[0m \u001b[1;34m'Seven'\u001b[0m\u001b[1;33m,\u001b[0m \u001b[1;34m'Eight'\u001b[0m\u001b[1;33m,\u001b[0m \u001b[1;34m'Nine'\u001b[0m\u001b[1;33m,\u001b[0m \u001b[1;34m'Ten'\u001b[0m\u001b[1;33m,\u001b[0m \u001b[1;34m'Jack'\u001b[0m\u001b[1;33m,\u001b[0m \u001b[1;34m'Queen'\u001b[0m\u001b[1;33m,\u001b[0m \u001b[1;34m'King'\u001b[0m\u001b[1;33m,\u001b[0m \u001b[1;34m'Ace'\u001b[0m\u001b[1;33m)\u001b[0m\u001b[1;33m\u001b[0m\u001b[1;33m\u001b[0m\u001b[0m\n\u001b[0;32m      5\u001b[0m     values = {'Two':2, 'Three':3, 'Four':4, 'Five':5, 'Six':6, 'Seven':7, 'Eight':8, 'Nine':9, 'Ten':10, 'Jack':10,\n",
      "\u001b[1;31mNameError\u001b[0m: name 'self' is not defined"
     ]
    }
   ],
   "source": [
    "class Deck:\n",
    "    \n",
    "    suits = ('Hearts', 'Diamonds', 'Spades', 'Clubs')\n",
    "    ranks = ('Two', 'Three', 'Four', 'Five', 'Six', 'Seven', 'Eight', 'Nine', 'Ten', 'Jack', 'Queen', 'King', 'Ace')\n",
    "    values = {'Two':2, 'Three':3, 'Four':4, 'Five':5, 'Six':6, 'Seven':7, 'Eight':8, 'Nine':9, 'Ten':10, 'Jack':10,\n",
    "         'Queen':10, 'King':10, 'Ace':11}\n",
    "    \n",
    "    def __str__(self):\n",
    "        print(self.suits)\n",
    "        \n",
    "    \n",
    "    "
   ]
  },
  {
   "cell_type": "code",
   "execution_count": 12,
   "metadata": {},
   "outputs": [],
   "source": [
    "d = Deck"
   ]
  },
  {
   "cell_type": "code",
   "execution_count": 10,
   "metadata": {},
   "outputs": [
    {
     "name": "stdout",
     "output_type": "stream",
     "text": [
      "<class '__main__.Deck'>\n"
     ]
    }
   ],
   "source": [
    "print(d)"
   ]
  },
  {
   "cell_type": "code",
   "execution_count": null,
   "metadata": {},
   "outputs": [],
   "source": []
  }
 ],
 "metadata": {
  "kernelspec": {
   "display_name": "Python 3",
   "language": "python",
   "name": "python3"
  },
  "language_info": {
   "codemirror_mode": {
    "name": "ipython",
    "version": 3
   },
   "file_extension": ".py",
   "mimetype": "text/x-python",
   "name": "python",
   "nbconvert_exporter": "python",
   "pygments_lexer": "ipython3",
   "version": "3.7.3"
  }
 },
 "nbformat": 4,
 "nbformat_minor": 2
}
